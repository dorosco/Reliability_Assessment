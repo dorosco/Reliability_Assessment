{
 "cells": [
  {
   "cell_type": "code",
   "execution_count": 1,
   "id": "37e9c5ee",
   "metadata": {},
   "outputs": [],
   "source": [
    "import networkx as next\n",
    "import pandas as pd\n",
    "#import numpy as np\n",
    "#import matplotlib.pyplot as plt"
   ]
  },
  {
   "cell_type": "code",
   "execution_count": 1,
   "id": "fec48e19",
   "metadata": {},
   "outputs": [
    {
     "name": "stdout",
     "output_type": "stream",
     "text": [
      "[1, 2, 3, 4, 5]\n"
     ]
    }
   ],
   "source": [
    "my_list = [1, 2, 2, 3, 4, 4, 5]\n",
    "unique_list = []\n",
    "[unique_list.append(x) for x in my_list if x not in unique_list]\n",
    "print(unique_list) # Output: [1, 2, 3, 4, 5]"
   ]
  },
  {
   "cell_type": "code",
   "execution_count": 14,
   "id": "89323edc",
   "metadata": {},
   "outputs": [
    {
     "name": "stdout",
     "output_type": "stream",
     "text": [
      "[1, 2, 2, 3, 4, 4, 5, 1, 2, 3, 6, 1, 2, 3, 6, 1, 2, 3, 6, 1, 2, 3, 6]\n",
      "[1, 2, 3, 4, 5, 6]\n"
     ]
    }
   ],
   "source": [
    "my_new_list = [1,2,3,6]\n",
    "my_list.extend([1,2,3,6])\n",
    "print(my_list)\n",
    "unique_list = []\n",
    "[unique_list.append(x) for x in my_list if x not in unique_list]\n",
    "print(unique_list)"
   ]
  },
  {
   "cell_type": "code",
   "execution_count": 1,
   "id": "566c03c6",
   "metadata": {},
   "outputs": [],
   "source": [
    "my_list_of_lists = [[1,2], [1,2], [2,3], [1,2], [2,4]]"
   ]
  },
  {
   "cell_type": "code",
   "execution_count": 3,
   "id": "7e053082",
   "metadata": {},
   "outputs": [
    {
     "name": "stdout",
     "output_type": "stream",
     "text": [
      "[[1, 2], [2, 3], [2, 4]]\n"
     ]
    }
   ],
   "source": [
    "unique_list = []\n",
    "[unique_list.append(x) for x in my_list_of_lists if x not in unique_list]\n",
    "print(unique_list)"
   ]
  },
  {
   "cell_type": "code",
   "execution_count": 2,
   "id": "57f10d74",
   "metadata": {},
   "outputs": [],
   "source": [
    "my_list_of_lists = [(1,2), (1,2), (2,3), (1,2), (2,4)]"
   ]
  },
  {
   "cell_type": "code",
   "execution_count": 3,
   "id": "bd93591c",
   "metadata": {},
   "outputs": [
    {
     "name": "stdout",
     "output_type": "stream",
     "text": [
      "[(1, 2), (2, 3), (2, 4)]\n"
     ]
    }
   ],
   "source": [
    "unique_list = []\n",
    "[unique_list.append(x) for x in my_list_of_lists if x not in unique_list]\n",
    "print(unique_list)"
   ]
  },
  {
   "cell_type": "code",
   "execution_count": 5,
   "id": "fd36f1ab",
   "metadata": {},
   "outputs": [],
   "source": [
    "data = pd.read_csv('37_nodes_system_data.csv')"
   ]
  },
  {
   "cell_type": "code",
   "execution_count": 6,
   "id": "2b301624",
   "metadata": {},
   "outputs": [
    {
     "data": {
      "text/html": [
       "<div>\n",
       "<style scoped>\n",
       "    .dataframe tbody tr th:only-of-type {\n",
       "        vertical-align: middle;\n",
       "    }\n",
       "\n",
       "    .dataframe tbody tr th {\n",
       "        vertical-align: top;\n",
       "    }\n",
       "\n",
       "    .dataframe thead th {\n",
       "        text-align: right;\n",
       "    }\n",
       "</style>\n",
       "<table border=\"1\" class=\"dataframe\">\n",
       "  <thead>\n",
       "    <tr style=\"text-align: right;\">\n",
       "      <th></th>\n",
       "      <th>u</th>\n",
       "      <th>v</th>\n",
       "      <th>km</th>\n",
       "      <th>lambda</th>\n",
       "      <th>Tao_RP</th>\n",
       "      <th>Tao_SW</th>\n",
       "    </tr>\n",
       "  </thead>\n",
       "  <tbody>\n",
       "    <tr>\n",
       "      <th>0</th>\n",
       "      <td>1</td>\n",
       "      <td>2</td>\n",
       "      <td>3.52</td>\n",
       "      <td>0.352</td>\n",
       "      <td>1.90</td>\n",
       "      <td>0.25</td>\n",
       "    </tr>\n",
       "    <tr>\n",
       "      <th>1</th>\n",
       "      <td>1</td>\n",
       "      <td>13</td>\n",
       "      <td>1.57</td>\n",
       "      <td>0.157</td>\n",
       "      <td>2.02</td>\n",
       "      <td>0.28</td>\n",
       "    </tr>\n",
       "    <tr>\n",
       "      <th>2</th>\n",
       "      <td>1</td>\n",
       "      <td>17</td>\n",
       "      <td>1.52</td>\n",
       "      <td>0.152</td>\n",
       "      <td>1.70</td>\n",
       "      <td>0.28</td>\n",
       "    </tr>\n",
       "    <tr>\n",
       "      <th>3</th>\n",
       "      <td>1</td>\n",
       "      <td>27</td>\n",
       "      <td>3.85</td>\n",
       "      <td>0.385</td>\n",
       "      <td>1.54</td>\n",
       "      <td>0.27</td>\n",
       "    </tr>\n",
       "    <tr>\n",
       "      <th>4</th>\n",
       "      <td>2</td>\n",
       "      <td>30</td>\n",
       "      <td>1.16</td>\n",
       "      <td>0.116</td>\n",
       "      <td>2.38</td>\n",
       "      <td>0.26</td>\n",
       "    </tr>\n",
       "  </tbody>\n",
       "</table>\n",
       "</div>"
      ],
      "text/plain": [
       "   u   v    km  lambda  Tao_RP  Tao_SW\n",
       "0  1   2  3.52   0.352    1.90    0.25\n",
       "1  1  13  1.57   0.157    2.02    0.28\n",
       "2  1  17  1.52   0.152    1.70    0.28\n",
       "3  1  27  3.85   0.385    1.54    0.27\n",
       "4  2  30  1.16   0.116    2.38    0.26"
      ]
     },
     "execution_count": 6,
     "metadata": {},
     "output_type": "execute_result"
    }
   ],
   "source": [
    "data.head()"
   ]
  },
  {
   "cell_type": "code",
   "execution_count": 9,
   "id": "bec0acce",
   "metadata": {},
   "outputs": [
    {
     "data": {
      "text/plain": [
       "0     3.52\n",
       "1     1.57\n",
       "2     1.52\n",
       "3     3.85\n",
       "4     1.16\n",
       "5     1.56\n",
       "6     2.03\n",
       "7     1.16\n",
       "8     1.56\n",
       "9     2.12\n",
       "10    1.76\n",
       "11    1.93\n",
       "12    1.60\n",
       "13    2.16\n",
       "14    0.90\n",
       "15    3.15\n",
       "16    1.14\n",
       "17    1.24\n",
       "18    2.35\n",
       "19    1.54\n",
       "20    1.78\n",
       "21    1.82\n",
       "22    1.57\n",
       "23    1.65\n",
       "24    2.10\n",
       "25    1.06\n",
       "26    1.25\n",
       "27    1.54\n",
       "28    2.03\n",
       "29    1.33\n",
       "30    1.80\n",
       "31    1.99\n",
       "32    2.12\n",
       "33    1.44\n",
       "34    1.63\n",
       "35    1.82\n",
       "Name: km, dtype: float64"
      ]
     },
     "execution_count": 9,
     "metadata": {},
     "output_type": "execute_result"
    }
   ],
   "source": [
    "data['km']"
   ]
  },
  {
   "cell_type": "code",
   "execution_count": 13,
   "id": "0ad266e8",
   "metadata": {},
   "outputs": [
    {
     "data": {
      "text/plain": [
       "36"
      ]
     },
     "execution_count": 13,
     "metadata": {},
     "output_type": "execute_result"
    }
   ],
   "source": [
    "len(data)"
   ]
  },
  {
   "cell_type": "code",
   "execution_count": 18,
   "id": "7160b797",
   "metadata": {},
   "outputs": [
    {
     "ename": "SyntaxError",
     "evalue": "closing parenthesis ')' does not match opening parenthesis '{' (3483271264.py, line 2)",
     "output_type": "error",
     "traceback": [
      "  \u001b[36mCell\u001b[39m\u001b[36m \u001b[39m\u001b[32mIn[18]\u001b[39m\u001b[32m, line 2\u001b[39m\n\u001b[31m    \u001b[39m\u001b[31m(data['u'].iloc[i], data['v'].iloc[i], {'lambda': data['lambda'].iloc[i]), 'Tao_RP': data['Tao_RP'].iloc[i], 'Tao_SW': data['Tao_SW'].iloc[i]}) for i in range(len(data))\u001b[39m\n                                                                            ^\n\u001b[31mSyntaxError\u001b[39m\u001b[31m:\u001b[39m closing parenthesis ')' does not match opening parenthesis '{'\n"
     ]
    }
   ],
   "source": [
    "[\n",
    "    (data['u'].iloc[i], data['v'].iloc[i], {'lambda': data['lambda'].iloc[i]), 'Tao_RP': data['Tao_RP'].iloc[i], 'Tao_SW': data['Tao_SW'].iloc[i]}) for i in range(len(data))\n",
    "]    "
   ]
  },
  {
   "cell_type": "code",
   "execution_count": 21,
   "id": "2f792768",
   "metadata": {},
   "outputs": [
    {
     "data": {
      "text/plain": [
       "[(np.int64(1),\n",
       "  np.int64(2),\n",
       "  {'lambda': np.float64(0.352),\n",
       "   'Tao_RP': np.float64(1.9),\n",
       "   'Tao_SW': np.float64(0.25)}),\n",
       " (np.int64(1),\n",
       "  np.int64(13),\n",
       "  {'lambda': np.float64(0.157),\n",
       "   'Tao_RP': np.float64(2.02),\n",
       "   'Tao_SW': np.float64(0.28)}),\n",
       " (np.int64(1),\n",
       "  np.int64(17),\n",
       "  {'lambda': np.float64(0.152),\n",
       "   'Tao_RP': np.float64(1.7),\n",
       "   'Tao_SW': np.float64(0.28)}),\n",
       " (np.int64(1),\n",
       "  np.int64(27),\n",
       "  {'lambda': np.float64(0.385),\n",
       "   'Tao_RP': np.float64(1.54),\n",
       "   'Tao_SW': np.float64(0.27)}),\n",
       " (np.int64(2),\n",
       "  np.int64(30),\n",
       "  {'lambda': np.float64(0.116),\n",
       "   'Tao_RP': np.float64(2.38),\n",
       "   'Tao_SW': np.float64(0.26)}),\n",
       " (np.int64(2),\n",
       "  np.int64(40),\n",
       "  {'lambda': np.float64(0.156),\n",
       "   'Tao_RP': np.float64(2.17),\n",
       "   'Tao_SW': np.float64(0.27)}),\n",
       " (np.int64(2),\n",
       "  np.int64(50),\n",
       "  {'lambda': np.float64(0.203),\n",
       "   'Tao_RP': np.float64(2.27),\n",
       "   'Tao_SW': np.float64(0.22)}),\n",
       " (np.int64(5),\n",
       "  np.int64(60),\n",
       "  {'lambda': np.float64(0.116),\n",
       "   'Tao_RP': np.float64(2.06),\n",
       "   'Tao_SW': np.float64(0.24)}),\n",
       " (np.int64(5),\n",
       "  np.int64(70),\n",
       "  {'lambda': np.float64(0.156),\n",
       "   'Tao_RP': np.float64(2.2),\n",
       "   'Tao_SW': np.float64(0.28)}),\n",
       " (np.int64(5),\n",
       "  np.int64(80),\n",
       "  {'lambda': np.float64(0.212),\n",
       "   'Tao_RP': np.float64(1.93),\n",
       "   'Tao_SW': np.float64(0.25)}),\n",
       " (np.int64(8),\n",
       "  np.int64(90),\n",
       "  {'lambda': np.float64(0.176),\n",
       "   'Tao_RP': np.float64(1.99),\n",
       "   'Tao_SW': np.float64(0.3)}),\n",
       " (np.int64(8),\n",
       "  np.int64(10),\n",
       "  {'lambda': np.float64(0.193),\n",
       "   'Tao_RP': np.float64(1.69),\n",
       "   'Tao_SW': np.float64(0.28)}),\n",
       " (np.int64(8),\n",
       "  np.int64(11),\n",
       "  {'lambda': np.float64(0.16),\n",
       "   'Tao_RP': np.float64(1.52),\n",
       "   'Tao_SW': np.float64(0.23)}),\n",
       " (np.int64(11),\n",
       "  np.int64(12),\n",
       "  {'lambda': np.float64(0.216),\n",
       "   'Tao_RP': np.float64(2.43),\n",
       "   'Tao_SW': np.float64(0.23)}),\n",
       " (np.int64(13),\n",
       "  np.int64(14),\n",
       "  {'lambda': np.float64(0.09),\n",
       "   'Tao_RP': np.float64(2.49),\n",
       "   'Tao_SW': np.float64(0.23)}),\n",
       " (np.int64(13),\n",
       "  np.int64(15),\n",
       "  {'lambda': np.float64(0.315),\n",
       "   'Tao_RP': np.float64(2.43),\n",
       "   'Tao_SW': np.float64(0.23)}),\n",
       " (np.int64(15),\n",
       "  np.int64(16),\n",
       "  {'lambda': np.float64(0.114),\n",
       "   'Tao_RP': np.float64(1.69),\n",
       "   'Tao_SW': np.float64(0.27)}),\n",
       " (np.int64(17),\n",
       "  np.int64(18),\n",
       "  {'lambda': np.float64(0.124),\n",
       "   'Tao_RP': np.float64(1.97),\n",
       "   'Tao_SW': np.float64(0.26)}),\n",
       " (np.int64(17),\n",
       "  np.int64(19),\n",
       "  {'lambda': np.float64(0.235),\n",
       "   'Tao_RP': np.float64(2.07),\n",
       "   'Tao_SW': np.float64(0.24)}),\n",
       " (np.int64(19),\n",
       "  np.int64(20),\n",
       "  {'lambda': np.float64(0.154),\n",
       "   'Tao_RP': np.float64(2.13),\n",
       "   'Tao_SW': np.float64(0.29)}),\n",
       " (np.int64(19),\n",
       "  np.int64(21),\n",
       "  {'lambda': np.float64(0.178),\n",
       "   'Tao_RP': np.float64(1.64),\n",
       "   'Tao_SW': np.float64(0.25)}),\n",
       " (np.int64(19),\n",
       "  np.int64(22),\n",
       "  {'lambda': np.float64(0.182),\n",
       "   'Tao_RP': np.float64(2.07),\n",
       "   'Tao_SW': np.float64(0.29)}),\n",
       " (np.int64(22),\n",
       "  np.int64(23),\n",
       "  {'lambda': np.float64(0.157),\n",
       "   'Tao_RP': np.float64(2.41),\n",
       "   'Tao_SW': np.float64(0.29)}),\n",
       " (np.int64(22),\n",
       "  np.int64(24),\n",
       "  {'lambda': np.float64(0.165),\n",
       "   'Tao_RP': np.float64(2.49),\n",
       "   'Tao_SW': np.float64(0.21)}),\n",
       " (np.int64(22),\n",
       "  np.int64(25),\n",
       "  {'lambda': np.float64(0.21),\n",
       "   'Tao_RP': np.float64(1.65),\n",
       "   'Tao_SW': np.float64(0.22)}),\n",
       " (np.int64(25),\n",
       "  np.int64(26),\n",
       "  {'lambda': np.float64(0.106),\n",
       "   'Tao_RP': np.float64(2.1),\n",
       "   'Tao_SW': np.float64(0.21)}),\n",
       " (np.int64(27),\n",
       "  np.int64(28),\n",
       "  {'lambda': np.float64(0.125),\n",
       "   'Tao_RP': np.float64(1.83),\n",
       "   'Tao_SW': np.float64(0.27)}),\n",
       " (np.int64(27),\n",
       "  np.int64(29),\n",
       "  {'lambda': np.float64(0.154),\n",
       "   'Tao_RP': np.float64(1.97),\n",
       "   'Tao_SW': np.float64(0.26)}),\n",
       " (np.int64(27),\n",
       "  np.int64(30),\n",
       "  {'lambda': np.float64(0.203),\n",
       "   'Tao_RP': np.float64(2.25),\n",
       "   'Tao_SW': np.float64(0.24)}),\n",
       " (np.int64(30),\n",
       "  np.int64(31),\n",
       "  {'lambda': np.float64(0.133),\n",
       "   'Tao_RP': np.float64(1.96),\n",
       "   'Tao_SW': np.float64(0.25)}),\n",
       " (np.int64(30),\n",
       "  np.int64(32),\n",
       "  {'lambda': np.float64(0.18),\n",
       "   'Tao_RP': np.float64(2.09),\n",
       "   'Tao_SW': np.float64(0.22)}),\n",
       " (np.int64(30),\n",
       "  np.int64(33),\n",
       "  {'lambda': np.float64(0.199),\n",
       "   'Tao_RP': np.float64(1.51),\n",
       "   'Tao_SW': np.float64(0.24)}),\n",
       " (np.int64(33),\n",
       "  np.int64(34),\n",
       "  {'lambda': np.float64(0.212),\n",
       "   'Tao_RP': np.float64(2.16),\n",
       "   'Tao_SW': np.float64(0.22)}),\n",
       " (np.int64(33),\n",
       "  np.int64(35),\n",
       "  {'lambda': np.float64(0.144),\n",
       "   'Tao_RP': np.float64(1.76),\n",
       "   'Tao_SW': np.float64(0.2)}),\n",
       " (np.int64(35),\n",
       "  np.int64(36),\n",
       "  {'lambda': np.float64(0.163),\n",
       "   'Tao_RP': np.float64(1.76),\n",
       "   'Tao_SW': np.float64(0.23)}),\n",
       " (np.int64(35),\n",
       "  np.int64(37),\n",
       "  {'lambda': np.float64(0.182),\n",
       "   'Tao_RP': np.float64(2.1),\n",
       "   'Tao_SW': np.float64(0.26)})]"
      ]
     },
     "execution_count": 21,
     "metadata": {},
     "output_type": "execute_result"
    }
   ],
   "source": [
    "[\n",
    "    (\n",
    "        data['u'].iloc[i],\n",
    "        data['v'].iloc[i],\n",
    "        {\n",
    "            'lambda': data['lambda'].iloc[i],\n",
    "            'Tao_RP': data['Tao_RP'].iloc[i],\n",
    "            'Tao_SW': data['Tao_SW'].iloc[i]\n",
    "        }\n",
    "    ) for i in range(len(data))\n",
    "]    "
   ]
  },
  {
   "cell_type": "code",
   "execution_count": 2,
   "id": "fa9f5172",
   "metadata": {},
   "outputs": [],
   "source": [
    "load_data = pd.read_csv('37_nodes_load_data.csv')"
   ]
  },
  {
   "cell_type": "code",
   "execution_count": 3,
   "id": "c6c7189c",
   "metadata": {},
   "outputs": [
    {
     "data": {
      "text/plain": [
       "0     177\n",
       "1     214\n",
       "2     222\n",
       "3     166\n",
       "4     214\n",
       "5     294\n",
       "6     302\n",
       "7     171\n",
       "8     279\n",
       "9     208\n",
       "10    260\n",
       "11    305\n",
       "12    303\n",
       "13    140\n",
       "14    153\n",
       "15    286\n",
       "16    251\n",
       "17    144\n",
       "18    235\n",
       "19    140\n",
       "20    222\n",
       "21    220\n",
       "22    217\n",
       "23    231\n",
       "24    196\n",
       "25    193\n",
       "26    271\n",
       "27    198\n",
       "28    222\n",
       "29    168\n",
       "30    268\n",
       "31    245\n",
       "32    200\n",
       "33    270\n",
       "34    258\n",
       "35    227\n",
       "Name: NC, dtype: int64"
      ]
     },
     "execution_count": 3,
     "metadata": {},
     "output_type": "execute_result"
    }
   ],
   "source": [
    "load_data['NC']"
   ]
  },
  {
   "cell_type": "code",
   "execution_count": 4,
   "id": "fd496efc",
   "metadata": {},
   "outputs": [
    {
     "data": {
      "text/html": [
       "<div>\n",
       "<style scoped>\n",
       "    .dataframe tbody tr th:only-of-type {\n",
       "        vertical-align: middle;\n",
       "    }\n",
       "\n",
       "    .dataframe tbody tr th {\n",
       "        vertical-align: top;\n",
       "    }\n",
       "\n",
       "    .dataframe thead th {\n",
       "        text-align: right;\n",
       "    }\n",
       "</style>\n",
       "<table border=\"1\" class=\"dataframe\">\n",
       "  <thead>\n",
       "    <tr style=\"text-align: right;\">\n",
       "      <th></th>\n",
       "      <th>Node</th>\n",
       "      <th>NC</th>\n",
       "      <th>L_MW</th>\n",
       "    </tr>\n",
       "  </thead>\n",
       "  <tbody>\n",
       "    <tr>\n",
       "      <th>0</th>\n",
       "      <td>2</td>\n",
       "      <td>177</td>\n",
       "      <td>0.99</td>\n",
       "    </tr>\n",
       "    <tr>\n",
       "      <th>1</th>\n",
       "      <td>3</td>\n",
       "      <td>214</td>\n",
       "      <td>2.01</td>\n",
       "    </tr>\n",
       "    <tr>\n",
       "      <th>2</th>\n",
       "      <td>4</td>\n",
       "      <td>222</td>\n",
       "      <td>0.41</td>\n",
       "    </tr>\n",
       "    <tr>\n",
       "      <th>3</th>\n",
       "      <td>5</td>\n",
       "      <td>166</td>\n",
       "      <td>0.36</td>\n",
       "    </tr>\n",
       "    <tr>\n",
       "      <th>4</th>\n",
       "      <td>6</td>\n",
       "      <td>214</td>\n",
       "      <td>1.49</td>\n",
       "    </tr>\n",
       "  </tbody>\n",
       "</table>\n",
       "</div>"
      ],
      "text/plain": [
       "   Node   NC  L_MW\n",
       "0     2  177  0.99\n",
       "1     3  214  2.01\n",
       "2     4  222  0.41\n",
       "3     5  166  0.36\n",
       "4     6  214  1.49"
      ]
     },
     "execution_count": 4,
     "metadata": {},
     "output_type": "execute_result"
    }
   ],
   "source": [
    "load_data.head()"
   ]
  },
  {
   "cell_type": "code",
   "execution_count": 10,
   "id": "cc797bcb",
   "metadata": {},
   "outputs": [
    {
     "data": {
      "text/plain": [
       "2    222\n",
       "Name: NC, dtype: int64"
      ]
     },
     "execution_count": 10,
     "metadata": {},
     "output_type": "execute_result"
    }
   ],
   "source": [
    "load_data[load_data['Node']==4]['NC']"
   ]
  },
  {
   "cell_type": "code",
   "execution_count": 11,
   "id": "9d1b94ca",
   "metadata": {},
   "outputs": [],
   "source": [
    "dav = load_data[load_data['Node']==4]['NC']"
   ]
  },
  {
   "cell_type": "code",
   "execution_count": 12,
   "id": "807ba072",
   "metadata": {},
   "outputs": [
    {
     "data": {
      "text/plain": [
       "2    222\n",
       "Name: NC, dtype: int64"
      ]
     },
     "execution_count": 12,
     "metadata": {},
     "output_type": "execute_result"
    }
   ],
   "source": [
    "dav"
   ]
  },
  {
   "cell_type": "code",
   "execution_count": 14,
   "id": "548c3a2a",
   "metadata": {},
   "outputs": [
    {
     "data": {
      "text/plain": [
       "np.int64(222)"
      ]
     },
     "execution_count": 14,
     "metadata": {},
     "output_type": "execute_result"
    }
   ],
   "source": [
    "dav.iloc[0]"
   ]
  },
  {
   "cell_type": "code",
   "execution_count": 15,
   "id": "0afc888b",
   "metadata": {},
   "outputs": [
    {
     "data": {
      "text/plain": [
       "np.int64(222)"
      ]
     },
     "execution_count": 15,
     "metadata": {},
     "output_type": "execute_result"
    }
   ],
   "source": [
    "load_data[load_data['Node']==4]['NC'].iloc[0]"
   ]
  },
  {
   "cell_type": "code",
   "execution_count": null,
   "id": "8cb80727",
   "metadata": {},
   "outputs": [],
   "source": []
  }
 ],
 "metadata": {
  "kernelspec": {
   "display_name": "pulp_networkx",
   "language": "python",
   "name": "python3"
  },
  "language_info": {
   "codemirror_mode": {
    "name": "ipython",
    "version": 3
   },
   "file_extension": ".py",
   "mimetype": "text/x-python",
   "name": "python",
   "nbconvert_exporter": "python",
   "pygments_lexer": "ipython3",
   "version": "3.11.12"
  }
 },
 "nbformat": 4,
 "nbformat_minor": 5
}
